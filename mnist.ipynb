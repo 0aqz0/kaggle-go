{
  "nbformat": 4,
  "nbformat_minor": 0,
  "metadata": {
    "kernelspec": {
      "name": "python3",
      "display_name": "Python 3"
    },
    "language_info": {
      "codemirror_mode": {
        "name": "ipython",
        "version": 3
      },
      "file_extension": ".py",
      "mimetype": "text/x-python",
      "name": "python",
      "nbconvert_exporter": "python",
      "pygments_lexer": "ipython3",
      "version": "3.6.5"
    },
    "toc": {
      "base_numbering": 1,
      "nav_menu": {},
      "number_sections": true,
      "sideBar": true,
      "skip_h1_title": false,
      "title_cell": "Table of Contents",
      "title_sidebar": "Contents",
      "toc_cell": false,
      "toc_position": {},
      "toc_section_display": true,
      "toc_window_display": false
    },
    "colab": {
      "name": "mnist.ipynb",
      "provenance": []
    },
    "accelerator": "GPU"
  },
  "cells": [
    {
      "cell_type": "markdown",
      "metadata": {
        "id": "JtNNh8gXmttG",
        "colab_type": "text"
      },
      "source": [
        "# Minst"
      ]
    },
    {
      "cell_type": "markdown",
      "metadata": {
        "id": "6KkSk3Xbmy4a",
        "colab_type": "text"
      },
      "source": [
        "## Data Preparation"
      ]
    },
    {
      "cell_type": "code",
      "metadata": {
        "id": "TGzndniRob3j",
        "colab_type": "code",
        "colab": {
          "base_uri": "https://localhost:8080/",
          "height": 71
        },
        "outputId": "34c1b462-a0b9-46ab-88a5-e7b717478cd2"
      },
      "source": [
        "import pandas as pd\n",
        "import numpy as np\n",
        "import matplotlib.pyplot as plt\n",
        "import matplotlib.image as mpimage\n",
        "import seaborn as sns\n",
        "%matplotlib inline\n",
        "sns.set(style='white', context='notebook', palette='deep')\n",
        "np.random.seed(2)\n",
        "\n",
        "from sklearn.model_selection import train_test_split\n",
        "from sklearn.metrics import confusion_matrix\n",
        "import itertools\n",
        "\n",
        "import tensorflow as tf\n",
        "import tensorflow.keras.models as models\n",
        "from tensorflow.keras.utils import to_categorical\n",
        "from tensorflow.keras.models import Sequential\n",
        "from tensorflow.keras.layers import Dense, Dropout, Flatten, Conv2D, MaxPool2D\n",
        "from tensorflow.keras.optimizers import RMSprop\n",
        "from tensorflow.keras.preprocessing.image import ImageDataGenerator\n",
        "from tensorflow.keras.callbacks import ReduceLROnPlateau\n"
      ],
      "execution_count": 1,
      "outputs": [
        {
          "output_type": "stream",
          "text": [
            "/usr/local/lib/python3.6/dist-packages/statsmodels/tools/_testing.py:19: FutureWarning: pandas.util.testing is deprecated. Use the functions in the public API at pandas.testing instead.\n",
            "  import pandas.util.testing as tm\n"
          ],
          "name": "stderr"
        }
      ]
    },
    {
      "cell_type": "code",
      "metadata": {
        "id": "g-est-HLq0CD",
        "colab_type": "code",
        "colab": {
          "base_uri": "https://localhost:8080/",
          "height": 472
        },
        "outputId": "36d7928b-ef4c-40c3-8cfb-5d818b3fd799"
      },
      "source": [
        "# Load the data\n",
        "train = pd.read_csv('train.csv')\n",
        "test = pd.read_csv('test.csv')\n",
        "\n",
        "Y_train = train['label']\n",
        "X_train = train.drop(labels=['label'], axis=1)\n",
        "del train\n",
        "\n",
        "sns.countplot(Y_train)\n",
        "Y_train.value_counts()"
      ],
      "execution_count": 2,
      "outputs": [
        {
          "output_type": "execute_result",
          "data": {
            "text/plain": [
              "1    4684\n",
              "7    4401\n",
              "3    4351\n",
              "9    4188\n",
              "2    4177\n",
              "6    4137\n",
              "0    4132\n",
              "4    4072\n",
              "8    4063\n",
              "5    3795\n",
              "Name: label, dtype: int64"
            ]
          },
          "metadata": {
            "tags": []
          },
          "execution_count": 2
        },
        {
          "output_type": "display_data",
          "data": {
            "image/png": "[encoded data removed]",
            "text/plain": [
              "<Figure size 432x288 with 1 Axes>"
            ]
          },
          "metadata": {
            "tags": [],
            "needs_background": "light"
          }
        }
      ]
    },
    {
      "cell_type": "code",
      "metadata": {
        "id": "-nfQjIT6ur3Q",
        "colab_type": "code",
        "colab": {
          "base_uri": "https://localhost:8080/",
          "height": 102
        },
        "outputId": "190bc76d-1203-48ce-a588-2f5486639d30"
      },
      "source": [
        "# Check the data\n",
        "X_train.isnull().any().describe()"
      ],
      "execution_count": 3,
      "outputs": [
        {
          "output_type": "execute_result",
          "data": {
            "text/plain": [
              "count       784\n",
              "unique        1\n",
              "top       False\n",
              "freq        784\n",
              "dtype: object"
            ]
          },
          "metadata": {
            "tags": []
          },
          "execution_count": 3
        }
      ]
    },
    {
      "cell_type": "code",
      "metadata": {
        "id": "9KxAmFusvBCq",
        "colab_type": "code",
        "colab": {
          "base_uri": "https://localhost:8080/",
          "height": 102
        },
        "outputId": "47bc4d93-66ca-418c-f488-7a79549e0cfb"
      },
      "source": [
        "test.isnull().any().describe()"
      ],
      "execution_count": 4,
      "outputs": [
        {
          "output_type": "execute_result",
          "data": {
            "text/plain": [
              "count       784\n",
              "unique        1\n",
              "top       False\n",
              "freq        784\n",
              "dtype: object"
            ]
          },
          "metadata": {
            "tags": []
          },
          "execution_count": 4
        }
      ]
    },
    {
      "cell_type": "code",
      "metadata": {
        "id": "TlpYP0h3vsdR",
        "colab_type": "code",
        "colab": {}
      },
      "source": [
        "# Normalize\n",
        "X_train /= 255.0\n",
        "test /= 255.0"
      ],
      "execution_count": 0,
      "outputs": []
    },
    {
      "cell_type": "code",
      "metadata": {
        "id": "28MaDejgv9E2",
        "colab_type": "code",
        "colab": {}
      },
      "source": [
        "# Reshape (N, H, W, C)\n",
        "X_train = X_train.values.reshape(-1, 28, 28, 1)\n",
        "test = test.values.reshape(-1, 28, 28, 1)"
      ],
      "execution_count": 0,
      "outputs": []
    },
    {
      "cell_type": "code",
      "metadata": {
        "id": "Zmku_VRnwUG6",
        "colab_type": "code",
        "colab": {}
      },
      "source": [
        "# Label encoding to one-hot vector\n",
        "Y_train = to_categorical(Y_train, num_classes=10)"
      ],
      "execution_count": 0,
      "outputs": []
    },
    {
      "cell_type": "code",
      "metadata": {
        "id": "XAr8x6giwsVX",
        "colab_type": "code",
        "colab": {}
      },
      "source": [
        "# Split training % validation set\n",
        "random_seed = 2\n",
        "X_train, X_val, Y_train, Y_val = train_test_split(X_train, Y_train, test_size=0.1, random_state=random_seed)"
      ],
      "execution_count": 0,
      "outputs": []
    },
    {
      "cell_type": "code",
      "metadata": {
        "id": "ZESGpqxKxVIS",
        "colab_type": "code",
        "colab": {
          "base_uri": "https://localhost:8080/",
          "height": 285
        },
        "outputId": "34f008c1-8bea-4280-92d2-ad7532f598a9"
      },
      "source": [
        "# Show sample\n",
        "plt.imshow(X_train[0][:,:,0])"
      ],
      "execution_count": 9,
      "outputs": [
        {
          "output_type": "execute_result",
          "data": {
            "text/plain": [
              "<matplotlib.image.AxesImage at 0x7fdc74718cf8>"
            ]
          },
          "metadata": {
            "tags": []
          },
          "execution_count": 9
        },
        {
          "output_type": "display_data",
          "data": {
            "image/png": "[encoded data removed]",
            "text/plain": [
              "<Figure size 432x288 with 1 Axes>"
            ]
          },
          "metadata": {
            "tags": [],
            "needs_background": "light"
          }
        }
      ]
    },
    {
      "cell_type": "markdown",
      "metadata": {
        "id": "U3OiuSMtm47o",
        "colab_type": "text"
      },
      "source": [
        "## Define Model"
      ]
    },
    {
      "cell_type": "code",
      "metadata": {
        "id": "sVP3YdhBmo7e",
        "colab_type": "code",
        "colab": {}
      },
      "source": [
        "# Define the model\n",
        "model = Sequential()\n",
        "model.add(Conv2D(filters=32, kernel_size=(5,5), padding='Same',\n",
        "        activation='relu', input_shape=(28,28,1)))\n",
        "model.add(Conv2D(filters=32, kernel_size=(5,5), padding='Same',\n",
        "        activation='relu'))\n",
        "model.add(MaxPool2D(pool_size=(2,2)))\n",
        "model.add(Dropout(0.25))\n",
        "\n",
        "model.add(Conv2D(filters=64, kernel_size=(3,3), padding='Same',\n",
        "        activation='relu'))\n",
        "model.add(Conv2D(filters=64, kernel_size=(3,3), padding='Same',\n",
        "        activation='relu'))\n",
        "model.add(MaxPool2D(pool_size=(2,2), strides=(2,2)))\n",
        "model.add(Dropout(0.25))\n",
        "\n",
        "model.add(Flatten())\n",
        "model.add(Dense(256, activation='relu'))\n",
        "model.add(Dropout(0.5))\n",
        "model.add(Dense(10, activation='softmax'))"
      ],
      "execution_count": 0,
      "outputs": []
    },
    {
      "cell_type": "code",
      "metadata": {
        "id": "qFHjRSWnzH6q",
        "colab_type": "code",
        "colab": {}
      },
      "source": [
        "# Set the optimizer\n",
        "optimizer = RMSprop(learning_rate=0.001, rho=0.9, epsilon=1e-8, decay=0.0)"
      ],
      "execution_count": 0,
      "outputs": []
    },
    {
      "cell_type": "code",
      "metadata": {
        "id": "Fmlnjkdezg8a",
        "colab_type": "code",
        "colab": {}
      },
      "source": [
        "# Compile the model\n",
        "model.compile(optimizer=optimizer, loss='categorical_crossentropy', metrics=['accuracy'])"
      ],
      "execution_count": 0,
      "outputs": []
    },
    {
      "cell_type": "markdown",
      "metadata": {
        "id": "J70sD-vTm7fk",
        "colab_type": "text"
      },
      "source": [
        "## Training & Validation"
      ]
    },
    {
      "cell_type": "code",
      "metadata": {
        "id": "rGORPxYWoW4n",
        "colab_type": "code",
        "colab": {}
      },
      "source": [
        "# Set the learning rate annealer\n",
        "learning_rate_reduction = ReduceLROnPlateau(monitor='val_accuracy', patience=3, verbose=1, factor=0.5, min_lr=1e-5)\n",
        "\n",
        "# Hyperparams\n",
        "epochs = 30\n",
        "batch_size = 86\n",
        "\n",
        "# Data argumentation\n",
        "datagen = ImageDataGenerator(\n",
        "    rotation_range=10,\n",
        "    zoom_range=0.1,\n",
        "    width_shift_range=0.1,\n",
        "    height_shift_range=0.1,\n",
        ")\n",
        "\n",
        "datagen.fit(X_train)"
      ],
      "execution_count": 0,
      "outputs": []
    },
    {
      "cell_type": "code",
      "metadata": {
        "id": "mJJV3CAB3P0R",
        "colab_type": "code",
        "colab": {
          "base_uri": "https://localhost:8080/",
          "height": 1000
        },
        "outputId": "73c99fe4-af39-484e-f523-edfb760a691c"
      },
      "source": [
        "# Fit the model\n",
        "history = model.fit(datagen.flow(X_train, Y_train, batch_size=batch_size),\n",
        "          epochs=epochs, validation_data=(X_val, Y_val), verbose=2,\n",
        "          steps_per_epoch=X_train.shape[0]//batch_size,\n",
        "          callbacks=[learning_rate_reduction])"
      ],
      "execution_count": 14,
      "outputs": [
        {
          "output_type": "stream",
          "text": [
            "Epoch 1/30\n",
            "439/439 - 16s - loss: 0.4099 - accuracy: 0.8686 - val_loss: 0.0677 - val_accuracy: 0.9788 - lr: 0.0010\n",
            "Epoch 2/30\n",
            "439/439 - 15s - loss: 0.1233 - accuracy: 0.9627 - val_loss: 0.0531 - val_accuracy: 0.9850 - lr: 0.0010\n",
            "Epoch 3/30\n",
            "439/439 - 16s - loss: 0.0947 - accuracy: 0.9723 - val_loss: 0.0272 - val_accuracy: 0.9917 - lr: 0.0010\n",
            "Epoch 4/30\n",
            "439/439 - 16s - loss: 0.0801 - accuracy: 0.9763 - val_loss: 0.0272 - val_accuracy: 0.9926 - lr: 0.0010\n",
            "Epoch 5/30\n",
            "439/439 - 16s - loss: 0.0712 - accuracy: 0.9792 - val_loss: 0.0254 - val_accuracy: 0.9914 - lr: 0.0010\n",
            "Epoch 6/30\n",
            "439/439 - 16s - loss: 0.0658 - accuracy: 0.9809 - val_loss: 0.0266 - val_accuracy: 0.9924 - lr: 0.0010\n",
            "Epoch 7/30\n",
            "\n",
            "Epoch 00007: ReduceLROnPlateau reducing learning rate to 0.0005000000237487257.\n",
            "439/439 - 16s - loss: 0.0614 - accuracy: 0.9824 - val_loss: 0.0524 - val_accuracy: 0.9871 - lr: 0.0010\n",
            "Epoch 8/30\n",
            "439/439 - 16s - loss: 0.0488 - accuracy: 0.9857 - val_loss: 0.0197 - val_accuracy: 0.9948 - lr: 5.0000e-04\n",
            "Epoch 9/30\n",
            "439/439 - 16s - loss: 0.0451 - accuracy: 0.9868 - val_loss: 0.0204 - val_accuracy: 0.9945 - lr: 5.0000e-04\n",
            "Epoch 10/30\n",
            "439/439 - 16s - loss: 0.0451 - accuracy: 0.9868 - val_loss: 0.0191 - val_accuracy: 0.9955 - lr: 5.0000e-04\n",
            "Epoch 11/30\n",
            "439/439 - 16s - loss: 0.0447 - accuracy: 0.9874 - val_loss: 0.0210 - val_accuracy: 0.9945 - lr: 5.0000e-04\n",
            "Epoch 12/30\n",
            "439/439 - 16s - loss: 0.0423 - accuracy: 0.9878 - val_loss: 0.0222 - val_accuracy: 0.9950 - lr: 5.0000e-04\n",
            "Epoch 13/30\n",
            "\n",
            "Epoch 00013: ReduceLROnPlateau reducing learning rate to 0.0002500000118743628.\n",
            "439/439 - 16s - loss: 0.0424 - accuracy: 0.9883 - val_loss: 0.0181 - val_accuracy: 0.9950 - lr: 5.0000e-04\n",
            "Epoch 14/30\n",
            "439/439 - 16s - loss: 0.0375 - accuracy: 0.9894 - val_loss: 0.0176 - val_accuracy: 0.9955 - lr: 2.5000e-04\n",
            "Epoch 15/30\n",
            "439/439 - 16s - loss: 0.0337 - accuracy: 0.9903 - val_loss: 0.0175 - val_accuracy: 0.9955 - lr: 2.5000e-04\n",
            "Epoch 16/30\n",
            "439/439 - 17s - loss: 0.0374 - accuracy: 0.9896 - val_loss: 0.0187 - val_accuracy: 0.9960 - lr: 2.5000e-04\n",
            "Epoch 17/30\n",
            "439/439 - 16s - loss: 0.0313 - accuracy: 0.9908 - val_loss: 0.0191 - val_accuracy: 0.9952 - lr: 2.5000e-04\n",
            "Epoch 18/30\n",
            "439/439 - 17s - loss: 0.0339 - accuracy: 0.9905 - val_loss: 0.0151 - val_accuracy: 0.9957 - lr: 2.5000e-04\n",
            "Epoch 19/30\n",
            "\n",
            "Epoch 00019: ReduceLROnPlateau reducing learning rate to 0.0001250000059371814.\n",
            "439/439 - 16s - loss: 0.0343 - accuracy: 0.9898 - val_loss: 0.0192 - val_accuracy: 0.9952 - lr: 2.5000e-04\n",
            "Epoch 20/30\n",
            "439/439 - 16s - loss: 0.0300 - accuracy: 0.9915 - val_loss: 0.0211 - val_accuracy: 0.9952 - lr: 1.2500e-04\n",
            "Epoch 21/30\n",
            "439/439 - 16s - loss: 0.0309 - accuracy: 0.9915 - val_loss: 0.0196 - val_accuracy: 0.9950 - lr: 1.2500e-04\n",
            "Epoch 22/30\n",
            "\n",
            "Epoch 00022: ReduceLROnPlateau reducing learning rate to 6.25000029685907e-05.\n",
            "439/439 - 16s - loss: 0.0326 - accuracy: 0.9907 - val_loss: 0.0177 - val_accuracy: 0.9960 - lr: 1.2500e-04\n",
            "Epoch 23/30\n",
            "439/439 - 16s - loss: 0.0280 - accuracy: 0.9922 - val_loss: 0.0160 - val_accuracy: 0.9962 - lr: 6.2500e-05\n",
            "Epoch 24/30\n",
            "439/439 - 16s - loss: 0.0279 - accuracy: 0.9921 - val_loss: 0.0190 - val_accuracy: 0.9957 - lr: 6.2500e-05\n",
            "Epoch 25/30\n",
            "439/439 - 16s - loss: 0.0266 - accuracy: 0.9916 - val_loss: 0.0172 - val_accuracy: 0.9957 - lr: 6.2500e-05\n",
            "Epoch 26/30\n",
            "\n",
            "Epoch 00026: ReduceLROnPlateau reducing learning rate to 3.125000148429535e-05.\n",
            "439/439 - 16s - loss: 0.0290 - accuracy: 0.9912 - val_loss: 0.0174 - val_accuracy: 0.9957 - lr: 6.2500e-05\n",
            "Epoch 27/30\n",
            "439/439 - 16s - loss: 0.0274 - accuracy: 0.9918 - val_loss: 0.0175 - val_accuracy: 0.9952 - lr: 3.1250e-05\n",
            "Epoch 28/30\n",
            "439/439 - 16s - loss: 0.0278 - accuracy: 0.9924 - val_loss: 0.0170 - val_accuracy: 0.9957 - lr: 3.1250e-05\n",
            "Epoch 29/30\n",
            "\n",
            "Epoch 00029: ReduceLROnPlateau reducing learning rate to 1.5625000742147677e-05.\n",
            "439/439 - 16s - loss: 0.0283 - accuracy: 0.9915 - val_loss: 0.0171 - val_accuracy: 0.9952 - lr: 3.1250e-05\n",
            "Epoch 30/30\n",
            "439/439 - 16s - loss: 0.0273 - accuracy: 0.9923 - val_loss: 0.0164 - val_accuracy: 0.9957 - lr: 1.5625e-05\n"
          ],
          "name": "stdout"
        }
      ]
    },
    {
      "cell_type": "code",
      "metadata": {
        "id": "EM3Sxeqv5QOf",
        "colab_type": "code",
        "colab": {
          "base_uri": "https://localhost:8080/",
          "height": 285
        },
        "outputId": "d453f786-d717-4237-a068-8e4851a347ed"
      },
      "source": [
        "# Training & Validation curve\n",
        "fig, ax = plt.subplots(2, 1)\n",
        "ax[0].plot(history.history['loss'], color='b', label='Training loss')\n",
        "ax[0].plot(history.history['val_loss'], color='r', label='Validation loss', axes=ax[0])\n",
        "ax[0].legend(loc='best', shadow=True)\n",
        "\n",
        "ax[1].plot(history.history['accuracy'], color='b', label='Training accuracy')\n",
        "ax[1].plot(history.history['val_accuracy'], color='r', label='Validation accuracy')\n",
        "ax[1].legend(loc='best', shadow=True)"
      ],
      "execution_count": 15,
      "outputs": [
        {
          "output_type": "execute_result",
          "data": {
            "text/plain": [
              "<matplotlib.legend.Legend at 0x7fdc4e4be4e0>"
            ]
          },
          "metadata": {
            "tags": []
          },
          "execution_count": 15
        },
        {
          "output_type": "display_data",
          "data": {
            "image/png": "[encoded data removed]",
            "text/plain": [
              "<Figure size 432x288 with 2 Axes>"
            ]
          },
          "metadata": {
            "tags": [],
            "needs_background": "light"
          }
        }
      ]
    },
    {
      "cell_type": "code",
      "metadata": {
        "id": "FxOtcmwu8jOE",
        "colab_type": "code",
        "colab": {
          "base_uri": "https://localhost:8080/",
          "height": 314
        },
        "outputId": "6e4dc23e-104c-4456-f16e-5d4ea1d3f04e"
      },
      "source": [
        "# Confusion matrix\n",
        "def plot_confusion_matrix(cm, classes, normalize=False, title='Confusion matrix', cmap=plt.cm.Blues):\n",
        "    \"\"\"\n",
        "    This function prints and plots the confusion matrix.\n",
        "    Normalization can be applied by setting `normalize=True`.\n",
        "    \"\"\"\n",
        "    plt.imshow(cm, interpolation='nearest', cmap=cmap)\n",
        "    plt.title(title)\n",
        "    plt.colorbar()\n",
        "    tick_marks = np.arange(len(classes))\n",
        "    plt.xticks(tick_marks, classes, rotation=45)\n",
        "    plt.yticks(tick_marks, classes)\n",
        "\n",
        "    if normalize:\n",
        "      cm = cm.astype('float') / cm.sum(axis=1)[:, np.newaxis]\n",
        "    \n",
        "    thresh = cm.max() / 2.\n",
        "    for i, j in itertools.product(range(cm.shape[0]), range(cm.shape[1])):\n",
        "      plt.text(j, i, cm[i, j], horizontalalignment=\"center\",\n",
        "          color=\"white\" if cm[i, j] > thresh else \"black\")\n",
        "\n",
        "    plt.tight_layout()\n",
        "    plt.ylabel('True label')\n",
        "    plt.xlabel('Predicted label')\n",
        "\n",
        "Y_pred = model.predict(X_val)\n",
        "Y_pred_classes = np.argmax(Y_pred, axis=1)\n",
        "Y_true = np.argmax(Y_val, axis=1)\n",
        "cm = confusion_matrix(Y_true, Y_pred_classes)\n",
        "plot_confusion_matrix(cm, classes=range(10))"
      ],
      "execution_count": 16,
      "outputs": [
        {
          "output_type": "display_data",
          "data": {
            "image/png": "[encoded data removed]",
            "text/plain": [
              "<Figure size 432x288 with 2 Axes>"
            ]
          },
          "metadata": {
            "tags": [],
            "needs_background": "light"
          }
        }
      ]
    },
    {
      "cell_type": "code",
      "metadata": {
        "id": "g7lItDWIFFzs",
        "colab_type": "code",
        "colab": {}
      },
      "source": [
        "# Generate prediction\n",
        "results = model.predict(test)\n",
        "results = np.argmax(results, axis=1)\n",
        "results = pd.Series(results, name='Label')\n",
        "\n",
        "# Generate submission file\n",
        "submission = pd.concat([pd.Series(range(1, 28001), name='ImageId'), results], axis=1)\n",
        "submission.to_csv('submission.csv', index=False)"
      ],
      "execution_count": 0,
      "outputs": []
    },
    {
      "cell_type": "markdown",
      "metadata": {
        "id": "xVT-8mt-oXl0",
        "colab_type": "text"
      },
      "source": [
        "## Save Model"
      ]
    },
    {
      "cell_type": "code",
      "metadata": {
        "id": "kRg6bptgoa_K",
        "colab_type": "code",
        "colab": {
          "base_uri": "https://localhost:8080/",
          "height": 105
        },
        "outputId": "57a8f212-99bd-47b2-ff95-55e05be3d3d0"
      },
      "source": [
        "# Save the model\n",
        "model.save('tf_model', save_format='tf')\n",
        "\n",
        "# Load the model\n",
        "model = models.load_model('tf_model')"
      ],
      "execution_count": 18,
      "outputs": [
        {
          "output_type": "stream",
          "text": [
            "WARNING:tensorflow:From /usr/local/lib/python3.6/dist-packages/tensorflow/python/ops/resource_variable_ops.py:1817: calling BaseResourceVariable.__init__ (from tensorflow.python.ops.resource_variable_ops) with constraint is deprecated and will be removed in a future version.\n",
            "Instructions for updating:\n",
            "If using Keras pass *_constraint arguments to layers.\n",
            "INFO:tensorflow:Assets written to: tf_model/assets\n"
          ],
          "name": "stdout"
        }
      ]
    },
    {
      "cell_type": "code",
      "metadata": {
        "id": "al57i5iAH3WF",
        "colab_type": "code",
        "colab": {}
      },
      "source": [
        ""
      ],
      "execution_count": 0,
      "outputs": []
    }
  ]
}